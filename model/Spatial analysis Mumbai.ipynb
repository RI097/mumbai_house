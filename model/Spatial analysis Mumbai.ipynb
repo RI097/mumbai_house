{
 "cells": [
  {
   "cell_type": "markdown",
   "id": "ccd87f33",
   "metadata": {},
   "source": [
    "# Spatial analysis of Mumbai \n",
    "## Importing th necessary libraries"
   ]
  },
  {
   "cell_type": "code",
   "execution_count": 25,
   "id": "ad373327",
   "metadata": {},
   "outputs": [],
   "source": [
    "import pandas as pd\n",
    "import numpy as np\n",
    "import matplotlib.pyplot as plt\n",
    "%matplotlib inline\n",
    "import matplotlib\n",
    "import seaborn as sns\n",
    "from shapely.geometry import Point\n",
    "import plotly.express as px\n",
    "import warnings\n",
    "\n",
    "matplotlib.rcParams['figure.figsize']=(20,10)\n",
    "warnings.filterwarnings('ignore')"
   ]
  },
  {
   "cell_type": "markdown",
   "id": "87629d86",
   "metadata": {},
   "source": [
    "## Mumbai Price and location Dataset"
   ]
  },
  {
   "cell_type": "code",
   "execution_count": 26,
   "id": "9f99e677",
   "metadata": {},
   "outputs": [
    {
     "data": {
      "text/html": [
       "<div>\n",
       "<style scoped>\n",
       "    .dataframe tbody tr th:only-of-type {\n",
       "        vertical-align: middle;\n",
       "    }\n",
       "\n",
       "    .dataframe tbody tr th {\n",
       "        vertical-align: top;\n",
       "    }\n",
       "\n",
       "    .dataframe thead th {\n",
       "        text-align: right;\n",
       "    }\n",
       "</style>\n",
       "<table border=\"1\" class=\"dataframe\">\n",
       "  <thead>\n",
       "    <tr style=\"text-align: right;\">\n",
       "      <th></th>\n",
       "      <th>Id</th>\n",
       "      <th>Price</th>\n",
       "      <th>Area</th>\n",
       "      <th>Location</th>\n",
       "      <th>No. of Bedrooms</th>\n",
       "      <th>New/Resale</th>\n",
       "      <th>Gymnasium</th>\n",
       "      <th>Lift Available</th>\n",
       "      <th>Car Parking</th>\n",
       "      <th>Maintenance Staff</th>\n",
       "      <th>...</th>\n",
       "      <th>Children's Play Area</th>\n",
       "      <th>Clubhouse</th>\n",
       "      <th>Intercom</th>\n",
       "      <th>Landscaped Gardens</th>\n",
       "      <th>Indoor Games</th>\n",
       "      <th>Gas Connection</th>\n",
       "      <th>Jogging Track</th>\n",
       "      <th>Swimming Pool</th>\n",
       "      <th>Price per Area</th>\n",
       "      <th>Pincode</th>\n",
       "    </tr>\n",
       "  </thead>\n",
       "  <tbody>\n",
       "    <tr>\n",
       "      <th>0</th>\n",
       "      <td>0</td>\n",
       "      <td>48.5</td>\n",
       "      <td>720</td>\n",
       "      <td>Kharghar</td>\n",
       "      <td>1</td>\n",
       "      <td>0</td>\n",
       "      <td>0</td>\n",
       "      <td>1</td>\n",
       "      <td>1</td>\n",
       "      <td>1</td>\n",
       "      <td>...</td>\n",
       "      <td>0</td>\n",
       "      <td>0</td>\n",
       "      <td>0</td>\n",
       "      <td>0</td>\n",
       "      <td>0</td>\n",
       "      <td>0</td>\n",
       "      <td>0</td>\n",
       "      <td>0</td>\n",
       "      <td>6736.111111</td>\n",
       "      <td>410210</td>\n",
       "    </tr>\n",
       "    <tr>\n",
       "      <th>1</th>\n",
       "      <td>1</td>\n",
       "      <td>45.0</td>\n",
       "      <td>600</td>\n",
       "      <td>Kharghar</td>\n",
       "      <td>1</td>\n",
       "      <td>0</td>\n",
       "      <td>1</td>\n",
       "      <td>1</td>\n",
       "      <td>1</td>\n",
       "      <td>1</td>\n",
       "      <td>...</td>\n",
       "      <td>0</td>\n",
       "      <td>1</td>\n",
       "      <td>0</td>\n",
       "      <td>0</td>\n",
       "      <td>0</td>\n",
       "      <td>0</td>\n",
       "      <td>1</td>\n",
       "      <td>1</td>\n",
       "      <td>7500.000000</td>\n",
       "      <td>410210</td>\n",
       "    </tr>\n",
       "    <tr>\n",
       "      <th>2</th>\n",
       "      <td>2</td>\n",
       "      <td>67.0</td>\n",
       "      <td>650</td>\n",
       "      <td>Kharghar</td>\n",
       "      <td>1</td>\n",
       "      <td>0</td>\n",
       "      <td>1</td>\n",
       "      <td>1</td>\n",
       "      <td>1</td>\n",
       "      <td>1</td>\n",
       "      <td>...</td>\n",
       "      <td>1</td>\n",
       "      <td>1</td>\n",
       "      <td>1</td>\n",
       "      <td>0</td>\n",
       "      <td>0</td>\n",
       "      <td>0</td>\n",
       "      <td>1</td>\n",
       "      <td>1</td>\n",
       "      <td>10307.692308</td>\n",
       "      <td>410210</td>\n",
       "    </tr>\n",
       "    <tr>\n",
       "      <th>3</th>\n",
       "      <td>3</td>\n",
       "      <td>45.0</td>\n",
       "      <td>650</td>\n",
       "      <td>Kharghar</td>\n",
       "      <td>1</td>\n",
       "      <td>0</td>\n",
       "      <td>0</td>\n",
       "      <td>1</td>\n",
       "      <td>1</td>\n",
       "      <td>1</td>\n",
       "      <td>...</td>\n",
       "      <td>0</td>\n",
       "      <td>0</td>\n",
       "      <td>1</td>\n",
       "      <td>1</td>\n",
       "      <td>0</td>\n",
       "      <td>0</td>\n",
       "      <td>0</td>\n",
       "      <td>0</td>\n",
       "      <td>6923.076923</td>\n",
       "      <td>410210</td>\n",
       "    </tr>\n",
       "    <tr>\n",
       "      <th>4</th>\n",
       "      <td>4</td>\n",
       "      <td>50.0</td>\n",
       "      <td>665</td>\n",
       "      <td>Kharghar</td>\n",
       "      <td>1</td>\n",
       "      <td>0</td>\n",
       "      <td>0</td>\n",
       "      <td>1</td>\n",
       "      <td>1</td>\n",
       "      <td>1</td>\n",
       "      <td>...</td>\n",
       "      <td>0</td>\n",
       "      <td>0</td>\n",
       "      <td>1</td>\n",
       "      <td>1</td>\n",
       "      <td>0</td>\n",
       "      <td>0</td>\n",
       "      <td>0</td>\n",
       "      <td>0</td>\n",
       "      <td>7518.796992</td>\n",
       "      <td>410210</td>\n",
       "    </tr>\n",
       "  </tbody>\n",
       "</table>\n",
       "<p>5 rows × 21 columns</p>\n",
       "</div>"
      ],
      "text/plain": [
       "   Id  Price  Area  Location  No. of Bedrooms  New/Resale  Gymnasium  \\\n",
       "0   0   48.5   720  Kharghar                1           0          0   \n",
       "1   1   45.0   600  Kharghar                1           0          1   \n",
       "2   2   67.0   650  Kharghar                1           0          1   \n",
       "3   3   45.0   650  Kharghar                1           0          0   \n",
       "4   4   50.0   665  Kharghar                1           0          0   \n",
       "\n",
       "   Lift Available  Car Parking  Maintenance Staff  ...  Children's Play Area  \\\n",
       "0               1            1                  1  ...                     0   \n",
       "1               1            1                  1  ...                     0   \n",
       "2               1            1                  1  ...                     1   \n",
       "3               1            1                  1  ...                     0   \n",
       "4               1            1                  1  ...                     0   \n",
       "\n",
       "   Clubhouse  Intercom  Landscaped Gardens  Indoor Games  Gas Connection  \\\n",
       "0          0         0                   0             0               0   \n",
       "1          1         0                   0             0               0   \n",
       "2          1         1                   0             0               0   \n",
       "3          0         1                   1             0               0   \n",
       "4          0         1                   1             0               0   \n",
       "\n",
       "   Jogging Track  Swimming Pool  Price per Area  Pincode  \n",
       "0              0              0     6736.111111   410210  \n",
       "1              1              1     7500.000000   410210  \n",
       "2              1              1    10307.692308   410210  \n",
       "3              0              0     6923.076923   410210  \n",
       "4              0              0     7518.796992   410210  \n",
       "\n",
       "[5 rows x 21 columns]"
      ]
     },
     "execution_count": 26,
     "metadata": {},
     "output_type": "execute_result"
    }
   ],
   "source": [
    "df=pd.read_csv('Location-Price.csv')\n",
    "df.head()"
   ]
  },
  {
   "cell_type": "code",
   "execution_count": 27,
   "id": "18d4f79f",
   "metadata": {},
   "outputs": [],
   "source": [
    "df=df[['Location','Price']]"
   ]
  },
  {
   "cell_type": "markdown",
   "id": "b7882c5d",
   "metadata": {},
   "source": [
    "## Grouping locations as per the median price of the area"
   ]
  },
  {
   "cell_type": "code",
   "execution_count": 28,
   "id": "502d0504",
   "metadata": {},
   "outputs": [],
   "source": [
    "df=df.groupby(['Location']).agg(['median'])"
   ]
  },
  {
   "cell_type": "markdown",
   "id": "1f74f92c",
   "metadata": {},
   "source": [
    "## Adding the latitude and longitude as a geojson file"
   ]
  },
  {
   "cell_type": "code",
   "execution_count": 29,
   "id": "c2425e34",
   "metadata": {},
   "outputs": [],
   "source": [
    "import geopandas as gpd\n",
    "geo_df = gpd.read_file('location.geojson')  "
   ]
  },
  {
   "cell_type": "code",
   "execution_count": 30,
   "id": "e14c5cfd",
   "metadata": {},
   "outputs": [
    {
     "name": "stdout",
     "output_type": "stream",
     "text": [
      "<class 'geopandas.geodataframe.GeoDataFrame'>\n",
      "RangeIndex: 109 entries, 0 to 108\n",
      "Data columns (total 2 columns):\n",
      " #   Column    Non-Null Count  Dtype   \n",
      "---  ------    --------------  -----   \n",
      " 0   name      109 non-null    object  \n",
      " 1   geometry  109 non-null    geometry\n",
      "dtypes: geometry(1), object(1)\n",
      "memory usage: 1.8+ KB\n"
     ]
    }
   ],
   "source": [
    "geo_df.info()"
   ]
  },
  {
   "cell_type": "code",
   "execution_count": 31,
   "id": "9ad97e33",
   "metadata": {},
   "outputs": [
    {
     "data": {
      "text/html": [
       "<div>\n",
       "<style scoped>\n",
       "    .dataframe tbody tr th:only-of-type {\n",
       "        vertical-align: middle;\n",
       "    }\n",
       "\n",
       "    .dataframe tbody tr th {\n",
       "        vertical-align: top;\n",
       "    }\n",
       "\n",
       "    .dataframe thead th {\n",
       "        text-align: right;\n",
       "    }\n",
       "</style>\n",
       "<table border=\"1\" class=\"dataframe\">\n",
       "  <thead>\n",
       "    <tr style=\"text-align: right;\">\n",
       "      <th></th>\n",
       "      <th>name</th>\n",
       "      <th>geometry</th>\n",
       "    </tr>\n",
       "  </thead>\n",
       "  <tbody>\n",
       "    <tr>\n",
       "      <th>0</th>\n",
       "      <td>Ambarnath</td>\n",
       "      <td>POINT (73.18220 19.18250)</td>\n",
       "    </tr>\n",
       "    <tr>\n",
       "      <th>1</th>\n",
       "      <td>Ambivali</td>\n",
       "      <td>POINT (73.17280 19.28460)</td>\n",
       "    </tr>\n",
       "    <tr>\n",
       "      <th>2</th>\n",
       "      <td>Andheri East</td>\n",
       "      <td>POINT (72.85680 19.11590)</td>\n",
       "    </tr>\n",
       "    <tr>\n",
       "      <th>3</th>\n",
       "      <td>Andheri West</td>\n",
       "      <td>POINT (72.83270 19.11720)</td>\n",
       "    </tr>\n",
       "    <tr>\n",
       "      <th>4</th>\n",
       "      <td>Asangaon</td>\n",
       "      <td>POINT (73.35410 19.41490)</td>\n",
       "    </tr>\n",
       "  </tbody>\n",
       "</table>\n",
       "</div>"
      ],
      "text/plain": [
       "           name                   geometry\n",
       "0     Ambarnath  POINT (73.18220 19.18250)\n",
       "1      Ambivali  POINT (73.17280 19.28460)\n",
       "2  Andheri East  POINT (72.85680 19.11590)\n",
       "3  Andheri West  POINT (72.83270 19.11720)\n",
       "4      Asangaon  POINT (73.35410 19.41490)"
      ]
     },
     "execution_count": 31,
     "metadata": {},
     "output_type": "execute_result"
    }
   ],
   "source": [
    "geo_df.head()"
   ]
  },
  {
   "cell_type": "code",
   "execution_count": 32,
   "id": "854faf58",
   "metadata": {},
   "outputs": [],
   "source": [
    "geo_df.columns=['Location','Coordinates']"
   ]
  },
  {
   "cell_type": "markdown",
   "id": "3216a253",
   "metadata": {},
   "source": [
    "## Merging the geodata with the Price Location data"
   ]
  },
  {
   "cell_type": "code",
   "execution_count": 33,
   "id": "5ed810e2",
   "metadata": {},
   "outputs": [],
   "source": [
    "merged_df=geo_df.merge(df, left_on='Location', right_on='Location', how='left')"
   ]
  },
  {
   "cell_type": "code",
   "execution_count": 34,
   "id": "acaf3d22",
   "metadata": {},
   "outputs": [
    {
     "data": {
      "text/html": [
       "<div>\n",
       "<style scoped>\n",
       "    .dataframe tbody tr th:only-of-type {\n",
       "        vertical-align: middle;\n",
       "    }\n",
       "\n",
       "    .dataframe tbody tr th {\n",
       "        vertical-align: top;\n",
       "    }\n",
       "\n",
       "    .dataframe thead th {\n",
       "        text-align: right;\n",
       "    }\n",
       "</style>\n",
       "<table border=\"1\" class=\"dataframe\">\n",
       "  <thead>\n",
       "    <tr style=\"text-align: right;\">\n",
       "      <th></th>\n",
       "      <th>Location</th>\n",
       "      <th>Coordinates</th>\n",
       "      <th>(Price, median)</th>\n",
       "    </tr>\n",
       "  </thead>\n",
       "  <tbody>\n",
       "    <tr>\n",
       "      <th>0</th>\n",
       "      <td>Ambarnath</td>\n",
       "      <td>POINT (73.18220 19.18250)</td>\n",
       "      <td>28.180000</td>\n",
       "    </tr>\n",
       "    <tr>\n",
       "      <th>1</th>\n",
       "      <td>Ambivali</td>\n",
       "      <td>POINT (73.17280 19.28460)</td>\n",
       "      <td>110.000000</td>\n",
       "    </tr>\n",
       "    <tr>\n",
       "      <th>2</th>\n",
       "      <td>Andheri East</td>\n",
       "      <td>POINT (72.85680 19.11590)</td>\n",
       "      <td>170.000000</td>\n",
       "    </tr>\n",
       "    <tr>\n",
       "      <th>3</th>\n",
       "      <td>Andheri West</td>\n",
       "      <td>POINT (72.83270 19.11720)</td>\n",
       "      <td>278.999995</td>\n",
       "    </tr>\n",
       "    <tr>\n",
       "      <th>4</th>\n",
       "      <td>Asangaon</td>\n",
       "      <td>POINT (73.35410 19.41490)</td>\n",
       "      <td>20.175000</td>\n",
       "    </tr>\n",
       "    <tr>\n",
       "      <th>...</th>\n",
       "      <td>...</td>\n",
       "      <td>...</td>\n",
       "      <td>...</td>\n",
       "    </tr>\n",
       "    <tr>\n",
       "      <th>104</th>\n",
       "      <td>Virar West</td>\n",
       "      <td>POINT (72.84730 19.45570)</td>\n",
       "      <td>37.570000</td>\n",
       "    </tr>\n",
       "    <tr>\n",
       "      <th>105</th>\n",
       "      <td>Wadala East</td>\n",
       "      <td>POINT (72.87000 19.02030)</td>\n",
       "      <td>245.000000</td>\n",
       "    </tr>\n",
       "    <tr>\n",
       "      <th>106</th>\n",
       "      <td>Wadi Bunder</td>\n",
       "      <td>POINT (72.84410 18.96140)</td>\n",
       "      <td>NaN</td>\n",
       "    </tr>\n",
       "    <tr>\n",
       "      <th>107</th>\n",
       "      <td>Worli</td>\n",
       "      <td>POINT (72.81640 19.02290)</td>\n",
       "      <td>735.000000</td>\n",
       "    </tr>\n",
       "    <tr>\n",
       "      <th>108</th>\n",
       "      <td>Yogi Hills</td>\n",
       "      <td>POINT (72.85680 19.23550)</td>\n",
       "      <td>NaN</td>\n",
       "    </tr>\n",
       "  </tbody>\n",
       "</table>\n",
       "<p>109 rows × 3 columns</p>\n",
       "</div>"
      ],
      "text/plain": [
       "         Location                Coordinates  (Price, median)\n",
       "0       Ambarnath  POINT (73.18220 19.18250)        28.180000\n",
       "1        Ambivali  POINT (73.17280 19.28460)       110.000000\n",
       "2    Andheri East  POINT (72.85680 19.11590)       170.000000\n",
       "3    Andheri West  POINT (72.83270 19.11720)       278.999995\n",
       "4        Asangaon  POINT (73.35410 19.41490)        20.175000\n",
       "..            ...                        ...              ...\n",
       "104    Virar West  POINT (72.84730 19.45570)        37.570000\n",
       "105   Wadala East  POINT (72.87000 19.02030)       245.000000\n",
       "106   Wadi Bunder  POINT (72.84410 18.96140)              NaN\n",
       "107         Worli  POINT (72.81640 19.02290)       735.000000\n",
       "108    Yogi Hills  POINT (72.85680 19.23550)              NaN\n",
       "\n",
       "[109 rows x 3 columns]"
      ]
     },
     "execution_count": 34,
     "metadata": {},
     "output_type": "execute_result"
    }
   ],
   "source": [
    "merged_df"
   ]
  },
  {
   "cell_type": "code",
   "execution_count": 35,
   "id": "54c90bbd",
   "metadata": {},
   "outputs": [],
   "source": [
    "merged_df.columns=['Location','Coordinates','Price']"
   ]
  },
  {
   "cell_type": "markdown",
   "id": "ef07f77d",
   "metadata": {},
   "source": [
    "## File output in geojson format"
   ]
  },
  {
   "cell_type": "code",
   "execution_count": 36,
   "id": "ea6f860b",
   "metadata": {},
   "outputs": [],
   "source": [
    "geo_data = gpd.GeoDataFrame(merged_df, geometry='Coordinates')\n",
    "output_geojson_file_path = 'loc.geojson'\n",
    "geo_data.to_file(output_geojson_file_path, driver='GeoJSON')"
   ]
  },
  {
   "cell_type": "code",
   "execution_count": 37,
   "id": "b6660ea6",
   "metadata": {},
   "outputs": [],
   "source": [
    "loc_df = gpd.read_file('loc.geojson') "
   ]
  },
  {
   "cell_type": "code",
   "execution_count": 38,
   "id": "e31c01c3",
   "metadata": {},
   "outputs": [
    {
     "name": "stdout",
     "output_type": "stream",
     "text": [
      "<class 'geopandas.geodataframe.GeoDataFrame'>\n",
      "RangeIndex: 109 entries, 0 to 108\n",
      "Data columns (total 3 columns):\n",
      " #   Column    Non-Null Count  Dtype   \n",
      "---  ------    --------------  -----   \n",
      " 0   Location  109 non-null    object  \n",
      " 1   Price     90 non-null     float64 \n",
      " 2   geometry  109 non-null    geometry\n",
      "dtypes: float64(1), geometry(1), object(1)\n",
      "memory usage: 2.7+ KB\n"
     ]
    }
   ],
   "source": [
    "loc_df.info()"
   ]
  },
  {
   "cell_type": "code",
   "execution_count": 39,
   "id": "fc3b9ee7",
   "metadata": {},
   "outputs": [
    {
     "data": {
      "text/html": [
       "<div>\n",
       "<style scoped>\n",
       "    .dataframe tbody tr th:only-of-type {\n",
       "        vertical-align: middle;\n",
       "    }\n",
       "\n",
       "    .dataframe tbody tr th {\n",
       "        vertical-align: top;\n",
       "    }\n",
       "\n",
       "    .dataframe thead th {\n",
       "        text-align: right;\n",
       "    }\n",
       "</style>\n",
       "<table border=\"1\" class=\"dataframe\">\n",
       "  <thead>\n",
       "    <tr style=\"text-align: right;\">\n",
       "      <th></th>\n",
       "      <th>Location</th>\n",
       "      <th>Price</th>\n",
       "      <th>geometry</th>\n",
       "    </tr>\n",
       "  </thead>\n",
       "  <tbody>\n",
       "    <tr>\n",
       "      <th>0</th>\n",
       "      <td>Ambarnath</td>\n",
       "      <td>28.180000</td>\n",
       "      <td>POINT (73.18220 19.18250)</td>\n",
       "    </tr>\n",
       "    <tr>\n",
       "      <th>1</th>\n",
       "      <td>Ambivali</td>\n",
       "      <td>110.000000</td>\n",
       "      <td>POINT (73.17280 19.28460)</td>\n",
       "    </tr>\n",
       "    <tr>\n",
       "      <th>2</th>\n",
       "      <td>Andheri East</td>\n",
       "      <td>170.000000</td>\n",
       "      <td>POINT (72.85680 19.11590)</td>\n",
       "    </tr>\n",
       "    <tr>\n",
       "      <th>3</th>\n",
       "      <td>Andheri West</td>\n",
       "      <td>278.999995</td>\n",
       "      <td>POINT (72.83270 19.11720)</td>\n",
       "    </tr>\n",
       "    <tr>\n",
       "      <th>4</th>\n",
       "      <td>Asangaon</td>\n",
       "      <td>20.175000</td>\n",
       "      <td>POINT (73.35410 19.41490)</td>\n",
       "    </tr>\n",
       "    <tr>\n",
       "      <th>...</th>\n",
       "      <td>...</td>\n",
       "      <td>...</td>\n",
       "      <td>...</td>\n",
       "    </tr>\n",
       "    <tr>\n",
       "      <th>104</th>\n",
       "      <td>Virar West</td>\n",
       "      <td>37.570000</td>\n",
       "      <td>POINT (72.84730 19.45570)</td>\n",
       "    </tr>\n",
       "    <tr>\n",
       "      <th>105</th>\n",
       "      <td>Wadala East</td>\n",
       "      <td>245.000000</td>\n",
       "      <td>POINT (72.87000 19.02030)</td>\n",
       "    </tr>\n",
       "    <tr>\n",
       "      <th>106</th>\n",
       "      <td>Wadi Bunder</td>\n",
       "      <td>NaN</td>\n",
       "      <td>POINT (72.84410 18.96140)</td>\n",
       "    </tr>\n",
       "    <tr>\n",
       "      <th>107</th>\n",
       "      <td>Worli</td>\n",
       "      <td>735.000000</td>\n",
       "      <td>POINT (72.81640 19.02290)</td>\n",
       "    </tr>\n",
       "    <tr>\n",
       "      <th>108</th>\n",
       "      <td>Yogi Hills</td>\n",
       "      <td>NaN</td>\n",
       "      <td>POINT (72.85680 19.23550)</td>\n",
       "    </tr>\n",
       "  </tbody>\n",
       "</table>\n",
       "<p>109 rows × 3 columns</p>\n",
       "</div>"
      ],
      "text/plain": [
       "         Location       Price                   geometry\n",
       "0       Ambarnath   28.180000  POINT (73.18220 19.18250)\n",
       "1        Ambivali  110.000000  POINT (73.17280 19.28460)\n",
       "2    Andheri East  170.000000  POINT (72.85680 19.11590)\n",
       "3    Andheri West  278.999995  POINT (72.83270 19.11720)\n",
       "4        Asangaon   20.175000  POINT (73.35410 19.41490)\n",
       "..            ...         ...                        ...\n",
       "104    Virar West   37.570000  POINT (72.84730 19.45570)\n",
       "105   Wadala East  245.000000  POINT (72.87000 19.02030)\n",
       "106   Wadi Bunder         NaN  POINT (72.84410 18.96140)\n",
       "107         Worli  735.000000  POINT (72.81640 19.02290)\n",
       "108    Yogi Hills         NaN  POINT (72.85680 19.23550)\n",
       "\n",
       "[109 rows x 3 columns]"
      ]
     },
     "execution_count": 39,
     "metadata": {},
     "output_type": "execute_result"
    }
   ],
   "source": [
    "loc_df"
   ]
  },
  {
   "cell_type": "code",
   "execution_count": 40,
   "id": "da249f3a",
   "metadata": {},
   "outputs": [
    {
     "data": {
      "text/plain": [
       "0      POINT (73.18220 19.18250)\n",
       "1      POINT (73.17280 19.28460)\n",
       "2      POINT (72.85680 19.11590)\n",
       "3      POINT (72.83270 19.11720)\n",
       "4      POINT (73.35410 19.41490)\n",
       "                 ...            \n",
       "104    POINT (72.84730 19.45570)\n",
       "105    POINT (72.87000 19.02030)\n",
       "106    POINT (72.84410 18.96140)\n",
       "107    POINT (72.81640 19.02290)\n",
       "108    POINT (72.85680 19.23550)\n",
       "Name: geometry, Length: 109, dtype: geometry"
      ]
     },
     "execution_count": 40,
     "metadata": {},
     "output_type": "execute_result"
    }
   ],
   "source": [
    "loc_df['geometry']"
   ]
  },
  {
   "cell_type": "markdown",
   "id": "4ef9a640",
   "metadata": {},
   "source": [
    "## Adding latitude and longitude columns to the dataset"
   ]
  },
  {
   "cell_type": "code",
   "execution_count": 41,
   "id": "390d0ac9",
   "metadata": {},
   "outputs": [],
   "source": [
    "loc_df['Latitudes'] = [point.y for point in loc_df['geometry']]\n",
    "loc_df['Longitudes'] = [point.x for point in loc_df['geometry']]"
   ]
  },
  {
   "cell_type": "code",
   "execution_count": 42,
   "id": "9a2bfa3b",
   "metadata": {},
   "outputs": [
    {
     "data": {
      "text/html": [
       "<div>\n",
       "<style scoped>\n",
       "    .dataframe tbody tr th:only-of-type {\n",
       "        vertical-align: middle;\n",
       "    }\n",
       "\n",
       "    .dataframe tbody tr th {\n",
       "        vertical-align: top;\n",
       "    }\n",
       "\n",
       "    .dataframe thead th {\n",
       "        text-align: right;\n",
       "    }\n",
       "</style>\n",
       "<table border=\"1\" class=\"dataframe\">\n",
       "  <thead>\n",
       "    <tr style=\"text-align: right;\">\n",
       "      <th></th>\n",
       "      <th>Location</th>\n",
       "      <th>Price</th>\n",
       "      <th>geometry</th>\n",
       "      <th>Latitudes</th>\n",
       "      <th>Longitudes</th>\n",
       "    </tr>\n",
       "  </thead>\n",
       "  <tbody>\n",
       "    <tr>\n",
       "      <th>0</th>\n",
       "      <td>Ambarnath</td>\n",
       "      <td>28.180000</td>\n",
       "      <td>POINT (73.18220 19.18250)</td>\n",
       "      <td>19.1825</td>\n",
       "      <td>73.1822</td>\n",
       "    </tr>\n",
       "    <tr>\n",
       "      <th>1</th>\n",
       "      <td>Ambivali</td>\n",
       "      <td>110.000000</td>\n",
       "      <td>POINT (73.17280 19.28460)</td>\n",
       "      <td>19.2846</td>\n",
       "      <td>73.1728</td>\n",
       "    </tr>\n",
       "    <tr>\n",
       "      <th>2</th>\n",
       "      <td>Andheri East</td>\n",
       "      <td>170.000000</td>\n",
       "      <td>POINT (72.85680 19.11590)</td>\n",
       "      <td>19.1159</td>\n",
       "      <td>72.8568</td>\n",
       "    </tr>\n",
       "    <tr>\n",
       "      <th>3</th>\n",
       "      <td>Andheri West</td>\n",
       "      <td>278.999995</td>\n",
       "      <td>POINT (72.83270 19.11720)</td>\n",
       "      <td>19.1172</td>\n",
       "      <td>72.8327</td>\n",
       "    </tr>\n",
       "    <tr>\n",
       "      <th>4</th>\n",
       "      <td>Asangaon</td>\n",
       "      <td>20.175000</td>\n",
       "      <td>POINT (73.35410 19.41490)</td>\n",
       "      <td>19.4149</td>\n",
       "      <td>73.3541</td>\n",
       "    </tr>\n",
       "    <tr>\n",
       "      <th>...</th>\n",
       "      <td>...</td>\n",
       "      <td>...</td>\n",
       "      <td>...</td>\n",
       "      <td>...</td>\n",
       "      <td>...</td>\n",
       "    </tr>\n",
       "    <tr>\n",
       "      <th>104</th>\n",
       "      <td>Virar West</td>\n",
       "      <td>37.570000</td>\n",
       "      <td>POINT (72.84730 19.45570)</td>\n",
       "      <td>19.4557</td>\n",
       "      <td>72.8473</td>\n",
       "    </tr>\n",
       "    <tr>\n",
       "      <th>105</th>\n",
       "      <td>Wadala East</td>\n",
       "      <td>245.000000</td>\n",
       "      <td>POINT (72.87000 19.02030)</td>\n",
       "      <td>19.0203</td>\n",
       "      <td>72.8700</td>\n",
       "    </tr>\n",
       "    <tr>\n",
       "      <th>106</th>\n",
       "      <td>Wadi Bunder</td>\n",
       "      <td>NaN</td>\n",
       "      <td>POINT (72.84410 18.96140)</td>\n",
       "      <td>18.9614</td>\n",
       "      <td>72.8441</td>\n",
       "    </tr>\n",
       "    <tr>\n",
       "      <th>107</th>\n",
       "      <td>Worli</td>\n",
       "      <td>735.000000</td>\n",
       "      <td>POINT (72.81640 19.02290)</td>\n",
       "      <td>19.0229</td>\n",
       "      <td>72.8164</td>\n",
       "    </tr>\n",
       "    <tr>\n",
       "      <th>108</th>\n",
       "      <td>Yogi Hills</td>\n",
       "      <td>NaN</td>\n",
       "      <td>POINT (72.85680 19.23550)</td>\n",
       "      <td>19.2355</td>\n",
       "      <td>72.8568</td>\n",
       "    </tr>\n",
       "  </tbody>\n",
       "</table>\n",
       "<p>109 rows × 5 columns</p>\n",
       "</div>"
      ],
      "text/plain": [
       "         Location       Price                   geometry  Latitudes  \\\n",
       "0       Ambarnath   28.180000  POINT (73.18220 19.18250)    19.1825   \n",
       "1        Ambivali  110.000000  POINT (73.17280 19.28460)    19.2846   \n",
       "2    Andheri East  170.000000  POINT (72.85680 19.11590)    19.1159   \n",
       "3    Andheri West  278.999995  POINT (72.83270 19.11720)    19.1172   \n",
       "4        Asangaon   20.175000  POINT (73.35410 19.41490)    19.4149   \n",
       "..            ...         ...                        ...        ...   \n",
       "104    Virar West   37.570000  POINT (72.84730 19.45570)    19.4557   \n",
       "105   Wadala East  245.000000  POINT (72.87000 19.02030)    19.0203   \n",
       "106   Wadi Bunder         NaN  POINT (72.84410 18.96140)    18.9614   \n",
       "107         Worli  735.000000  POINT (72.81640 19.02290)    19.0229   \n",
       "108    Yogi Hills         NaN  POINT (72.85680 19.23550)    19.2355   \n",
       "\n",
       "     Longitudes  \n",
       "0       73.1822  \n",
       "1       73.1728  \n",
       "2       72.8568  \n",
       "3       72.8327  \n",
       "4       73.3541  \n",
       "..          ...  \n",
       "104     72.8473  \n",
       "105     72.8700  \n",
       "106     72.8441  \n",
       "107     72.8164  \n",
       "108     72.8568  \n",
       "\n",
       "[109 rows x 5 columns]"
      ]
     },
     "execution_count": 42,
     "metadata": {},
     "output_type": "execute_result"
    }
   ],
   "source": [
    "loc_df"
   ]
  },
  {
   "cell_type": "markdown",
   "id": "99ec2be9",
   "metadata": {},
   "source": [
    "## Plotting the data on the map (colour coded by price)"
   ]
  },
  {
   "cell_type": "code",
   "execution_count": 43,
   "id": "17ad2275",
   "metadata": {},
   "outputs": [],
   "source": [
    "df_plot_tmp = pd.read_csv('loc.csv')"
   ]
  },
  {
   "cell_type": "code",
   "execution_count": 44,
   "id": "a0a27f75",
   "metadata": {},
   "outputs": [
    {
     "data": {
      "application/vnd.plotly.v1+json": {
       "config": {
        "plotlyServerURL": "https://plot.ly"
       },
       "data": [
        {
         "hovertemplate": "<b>%{hovertext}</b><br><br>Latitudes=%{lat}<br>Longitudes=%{lon}<br>Price=%{marker.color}<extra></extra>",
         "hovertext": [
          "Ambarnath",
          "Ambivali",
          "Andheri East",
          "Andheri West",
          "Asangaon",
          "Badlapur",
          "Balkum",
          "Bandra East",
          "Bandra West",
          "Bangur Nagar",
          "Belapur",
          "Bhandup West",
          "Bhayandar west",
          "Bhayander",
          "Bhiwandi",
          "Boisar",
          "Borivali East",
          "Borivali West",
          "Byculla",
          "Chembur",
          "Dahisar",
          "Deonar",
          "Dharavi",
          "Dombivali",
          "Dombivali West",
          "Ghansoli",
          "Ghatkopar",
          "Ghatkopar East",
          "Ghodbunder Road",
          "Goregaon East",
          "Goregaon West",
          "Govandi",
          "I C Colony",
          "It Colony",
          "Jogeshwari",
          "Jogeshwari East",
          "Juhu",
          "Kalamboli",
          "Kalwa",
          "Kalyan",
          "Kalyan East",
          "Kamothe",
          "Kandivali",
          "Kandivali West",
          "Kanjurmarg",
          "Karjat",
          "Kavesar",
          "Khar",
          "Kharghar",
          "Kharodi",
          "Khopoli",
          "Koper Khairane",
          "Kurla",
          "Kurla East",
          "M G Road",
          "Malad East",
          "Malad West",
          "Marol",
          "Marwah",
          "Matunga",
          "Mira Road East",
          "Mulund",
          "Mulund East",
          "Mumbai",
          "Mumbai Central",
          "Naigaon East",
          "Nalasopara",
          "Nalasopara West",
          "Neral",
          "Nerul",
          "Palava",
          "Palghar",
          "Pant Nagar",
          "Parel",
          "Parsik Nagar",
          "Powai",
          "Prabhadevi",
          "Rasayani",
          "Rawal Pada",
          "Royal Palms Goregaon East",
          "Sakinaka",
          "Sanpada",
          "Santacruz West",
          "Sewri",
          "Shilphata",
          "Shimpoli",
          "Sion",
          "Taloja",
          "Thane",
          "Thane West",
          "Tilak Nagar",
          "Titwala",
          "Ulhasnagar 4",
          "Uran",
          "Vakola",
          "Vartak Nagar",
          "Vasai",
          "Vasai East",
          "Vashi",
          "Vikhroli",
          "Vikhroli East",
          "Vile Parle East",
          "Vile Parle West",
          "Virar East",
          "Virar West",
          "Wadala East",
          "Wadi Bunder",
          "Worli",
          "Yogi Hills"
         ],
         "lat": [
          19.1825,
          19.2846,
          19.1159,
          19.1172,
          19.4149,
          19.1552,
          19.2664,
          19.0623,
          19.0583,
          19.1676,
          19.0183,
          19.1454,
          19.3002,
          19.3118,
          19.2815,
          19.8236,
          19.2273,
          19.2403,
          18.979,
          19.2501,
          19.2502,
          19.0486,
          19.0402,
          19.2095,
          19.2158,
          19.1188,
          19.0866,
          19.0797,
          19.2226,
          19.1648,
          19.1646,
          19.0518,
          19.2209,
          19.2143,
          19.1342,
          19.1326,
          19.107,
          19.0104,
          19.1976,
          19.2355,
          19.24,
          19.0423,
          19.2044,
          19.2015,
          19.1396,
          18.9101,
          19.2897,
          19.0685,
          19.0217,
          19.1246,
          18.7799,
          19.0637,
          19.0686,
          19.0734,
          18.95,
          19.1998,
          19.1856,
          19.1334,
          19.0762,
          19.2739,
          19.2856,
          19.1739,
          19.1701,
          19.076,
          18.9678,
          19.2663,
          19.427,
          19.4261,
          19.0255,
          19.033,
          19.1935,
          19.4421,
          19.0558,
          19.0053,
          19.2001,
          19.1198,
          19.0177,
          19.0346,
          19.1133,
          19.1031,
          19.0998,
          19.0643,
          19.0848,
          19.0231,
          19.1939,
          19.2345,
          19.0435,
          19.0546,
          19.1863,
          19.1868,
          19.0796,
          19.208,
          19.2471,
          19.033,
          19.0837,
          19.2285,
          19.0546,
          19.3944,
          19.0749,
          19.1198,
          19.1157,
          19.1006,
          19.1006,
          19.4572,
          19.4557,
          19.0203,
          18.9614,
          19.0229,
          19.2355
         ],
         "legendgroup": "",
         "lon": [
          73.1822,
          73.1728,
          72.8568,
          72.8327,
          73.3541,
          73.2642,
          73.0355,
          72.8562,
          72.8299,
          72.8347,
          73.0104,
          72.9456,
          72.8515,
          72.8504,
          73.0588,
          72.7512,
          72.8622,
          72.8448,
          72.8326,
          72.8938,
          72.854,
          72.9223,
          72.8508,
          73.0832,
          73.0972,
          73.0025,
          72.909,
          72.9113,
          72.9808,
          72.8777,
          72.8462,
          72.9148,
          72.8028,
          72.8112,
          72.8474,
          72.8549,
          72.827,
          73.0997,
          73.0859,
          73.1523,
          73.1543,
          73.1097,
          72.8401,
          72.8445,
          72.9344,
          73.3265,
          72.9988,
          72.83,
          73.0616,
          72.8637,
          73.3438,
          73.0375,
          72.88,
          72.8822,
          72.836,
          72.866,
          72.8473,
          72.85,
          72.8263,
          72.8512,
          72.8652,
          72.952,
          72.9481,
          72.8777,
          72.818,
          72.8457,
          72.841,
          72.8428,
          73.3163,
          73.018,
          73.1178,
          72.7524,
          72.8729,
          72.84,
          73.0343,
          72.8985,
          72.8261,
          73.1213,
          72.9515,
          72.8795,
          72.881,
          73.0185,
          72.8356,
          72.8616,
          73.083,
          72.848,
          72.864,
          73.0968,
          72.9781,
          72.9778,
          72.8371,
          73.2167,
          73.093,
          72.9393,
          72.8423,
          72.982,
          72.812,
          72.8133,
          73.0038,
          72.9414,
          72.9352,
          72.8384,
          72.8402,
          72.8622,
          72.8473,
          72.87,
          72.8441,
          72.8164,
          72.8568
         ],
         "marker": {
          "color": [
           28.18,
           110,
           170,
           278.999995,
           20.175,
           26.125,
           79,
           487.5,
           600,
           null,
           150,
           212.5,
           105,
           55.77,
           57.43,
           26,
           180,
           135,
           45,
           165,
           117,
           145,
           140,
           45,
           46.5,
           146.5,
           165,
           137.5,
           120,
           260,
           200,
           115,
           null,
           null,
           145,
           null,
           575,
           97.5,
           65,
           47,
           69.5,
           70,
           165,
           137.99999,
           166.5,
           21,
           80,
           367.5,
           90,
           65,
           45.905,
           null,
           90,
           null,
           150,
           200,
           132.5,
           190,
           160,
           341,
           76,
           198,
           null,
           45,
           null,
           null,
           26,
           null,
           20.875,
           190,
           52.75,
           30.49,
           null,
           455,
           null,
           195,
           400,
           28,
           null,
           null,
           110,
           180,
           null,
           155,
           55,
           195,
           167.5,
           37.745,
           95,
           145,
           170,
           25.82,
           20.5,
           37.25,
           132.5,
           null,
           41.565,
           null,
           144.5,
           147,
           120,
           290,
           387.5,
           25,
           37.57,
           245,
           null,
           735,
           null
          ],
          "coloraxis": "coloraxis"
         },
         "mode": "markers",
         "name": "",
         "showlegend": false,
         "subplot": "mapbox",
         "type": "scattermapbox"
        }
       ],
       "layout": {
        "coloraxis": {
         "colorbar": {
          "title": {
           "text": "Price"
          }
         },
         "colorscale": [
          [
           0,
           "#0d0887"
          ],
          [
           0.1111111111111111,
           "#46039f"
          ],
          [
           0.2222222222222222,
           "#7201a8"
          ],
          [
           0.3333333333333333,
           "#9c179e"
          ],
          [
           0.4444444444444444,
           "#bd3786"
          ],
          [
           0.5555555555555556,
           "#d8576b"
          ],
          [
           0.6666666666666666,
           "#ed7953"
          ],
          [
           0.7777777777777778,
           "#fb9f3a"
          ],
          [
           0.8888888888888888,
           "#fdca26"
          ],
          [
           1,
           "#f0f921"
          ]
         ]
        },
        "legend": {
         "tracegroupgap": 0
        },
        "mapbox": {
         "center": {
          "lat": 19.152813761467886,
          "lon": 72.93844311926605
         },
         "domain": {
          "x": [
           0,
           1
          ],
          "y": [
           0,
           1
          ]
         },
         "style": "open-street-map",
         "zoom": 9
        },
        "margin": {
         "t": 60
        },
        "template": {
         "data": {
          "bar": [
           {
            "error_x": {
             "color": "#2a3f5f"
            },
            "error_y": {
             "color": "#2a3f5f"
            },
            "marker": {
             "line": {
              "color": "#E5ECF6",
              "width": 0.5
             },
             "pattern": {
              "fillmode": "overlay",
              "size": 10,
              "solidity": 0.2
             }
            },
            "type": "bar"
           }
          ],
          "barpolar": [
           {
            "marker": {
             "line": {
              "color": "#E5ECF6",
              "width": 0.5
             },
             "pattern": {
              "fillmode": "overlay",
              "size": 10,
              "solidity": 0.2
             }
            },
            "type": "barpolar"
           }
          ],
          "carpet": [
           {
            "aaxis": {
             "endlinecolor": "#2a3f5f",
             "gridcolor": "white",
             "linecolor": "white",
             "minorgridcolor": "white",
             "startlinecolor": "#2a3f5f"
            },
            "baxis": {
             "endlinecolor": "#2a3f5f",
             "gridcolor": "white",
             "linecolor": "white",
             "minorgridcolor": "white",
             "startlinecolor": "#2a3f5f"
            },
            "type": "carpet"
           }
          ],
          "choropleth": [
           {
            "colorbar": {
             "outlinewidth": 0,
             "ticks": ""
            },
            "type": "choropleth"
           }
          ],
          "contour": [
           {
            "colorbar": {
             "outlinewidth": 0,
             "ticks": ""
            },
            "colorscale": [
             [
              0,
              "#0d0887"
             ],
             [
              0.1111111111111111,
              "#46039f"
             ],
             [
              0.2222222222222222,
              "#7201a8"
             ],
             [
              0.3333333333333333,
              "#9c179e"
             ],
             [
              0.4444444444444444,
              "#bd3786"
             ],
             [
              0.5555555555555556,
              "#d8576b"
             ],
             [
              0.6666666666666666,
              "#ed7953"
             ],
             [
              0.7777777777777778,
              "#fb9f3a"
             ],
             [
              0.8888888888888888,
              "#fdca26"
             ],
             [
              1,
              "#f0f921"
             ]
            ],
            "type": "contour"
           }
          ],
          "contourcarpet": [
           {
            "colorbar": {
             "outlinewidth": 0,
             "ticks": ""
            },
            "type": "contourcarpet"
           }
          ],
          "heatmap": [
           {
            "colorbar": {
             "outlinewidth": 0,
             "ticks": ""
            },
            "colorscale": [
             [
              0,
              "#0d0887"
             ],
             [
              0.1111111111111111,
              "#46039f"
             ],
             [
              0.2222222222222222,
              "#7201a8"
             ],
             [
              0.3333333333333333,
              "#9c179e"
             ],
             [
              0.4444444444444444,
              "#bd3786"
             ],
             [
              0.5555555555555556,
              "#d8576b"
             ],
             [
              0.6666666666666666,
              "#ed7953"
             ],
             [
              0.7777777777777778,
              "#fb9f3a"
             ],
             [
              0.8888888888888888,
              "#fdca26"
             ],
             [
              1,
              "#f0f921"
             ]
            ],
            "type": "heatmap"
           }
          ],
          "heatmapgl": [
           {
            "colorbar": {
             "outlinewidth": 0,
             "ticks": ""
            },
            "colorscale": [
             [
              0,
              "#0d0887"
             ],
             [
              0.1111111111111111,
              "#46039f"
             ],
             [
              0.2222222222222222,
              "#7201a8"
             ],
             [
              0.3333333333333333,
              "#9c179e"
             ],
             [
              0.4444444444444444,
              "#bd3786"
             ],
             [
              0.5555555555555556,
              "#d8576b"
             ],
             [
              0.6666666666666666,
              "#ed7953"
             ],
             [
              0.7777777777777778,
              "#fb9f3a"
             ],
             [
              0.8888888888888888,
              "#fdca26"
             ],
             [
              1,
              "#f0f921"
             ]
            ],
            "type": "heatmapgl"
           }
          ],
          "histogram": [
           {
            "marker": {
             "pattern": {
              "fillmode": "overlay",
              "size": 10,
              "solidity": 0.2
             }
            },
            "type": "histogram"
           }
          ],
          "histogram2d": [
           {
            "colorbar": {
             "outlinewidth": 0,
             "ticks": ""
            },
            "colorscale": [
             [
              0,
              "#0d0887"
             ],
             [
              0.1111111111111111,
              "#46039f"
             ],
             [
              0.2222222222222222,
              "#7201a8"
             ],
             [
              0.3333333333333333,
              "#9c179e"
             ],
             [
              0.4444444444444444,
              "#bd3786"
             ],
             [
              0.5555555555555556,
              "#d8576b"
             ],
             [
              0.6666666666666666,
              "#ed7953"
             ],
             [
              0.7777777777777778,
              "#fb9f3a"
             ],
             [
              0.8888888888888888,
              "#fdca26"
             ],
             [
              1,
              "#f0f921"
             ]
            ],
            "type": "histogram2d"
           }
          ],
          "histogram2dcontour": [
           {
            "colorbar": {
             "outlinewidth": 0,
             "ticks": ""
            },
            "colorscale": [
             [
              0,
              "#0d0887"
             ],
             [
              0.1111111111111111,
              "#46039f"
             ],
             [
              0.2222222222222222,
              "#7201a8"
             ],
             [
              0.3333333333333333,
              "#9c179e"
             ],
             [
              0.4444444444444444,
              "#bd3786"
             ],
             [
              0.5555555555555556,
              "#d8576b"
             ],
             [
              0.6666666666666666,
              "#ed7953"
             ],
             [
              0.7777777777777778,
              "#fb9f3a"
             ],
             [
              0.8888888888888888,
              "#fdca26"
             ],
             [
              1,
              "#f0f921"
             ]
            ],
            "type": "histogram2dcontour"
           }
          ],
          "mesh3d": [
           {
            "colorbar": {
             "outlinewidth": 0,
             "ticks": ""
            },
            "type": "mesh3d"
           }
          ],
          "parcoords": [
           {
            "line": {
             "colorbar": {
              "outlinewidth": 0,
              "ticks": ""
             }
            },
            "type": "parcoords"
           }
          ],
          "pie": [
           {
            "automargin": true,
            "type": "pie"
           }
          ],
          "scatter": [
           {
            "fillpattern": {
             "fillmode": "overlay",
             "size": 10,
             "solidity": 0.2
            },
            "type": "scatter"
           }
          ],
          "scatter3d": [
           {
            "line": {
             "colorbar": {
              "outlinewidth": 0,
              "ticks": ""
             }
            },
            "marker": {
             "colorbar": {
              "outlinewidth": 0,
              "ticks": ""
             }
            },
            "type": "scatter3d"
           }
          ],
          "scattercarpet": [
           {
            "marker": {
             "colorbar": {
              "outlinewidth": 0,
              "ticks": ""
             }
            },
            "type": "scattercarpet"
           }
          ],
          "scattergeo": [
           {
            "marker": {
             "colorbar": {
              "outlinewidth": 0,
              "ticks": ""
             }
            },
            "type": "scattergeo"
           }
          ],
          "scattergl": [
           {
            "marker": {
             "colorbar": {
              "outlinewidth": 0,
              "ticks": ""
             }
            },
            "type": "scattergl"
           }
          ],
          "scattermapbox": [
           {
            "marker": {
             "colorbar": {
              "outlinewidth": 0,
              "ticks": ""
             }
            },
            "type": "scattermapbox"
           }
          ],
          "scatterpolar": [
           {
            "marker": {
             "colorbar": {
              "outlinewidth": 0,
              "ticks": ""
             }
            },
            "type": "scatterpolar"
           }
          ],
          "scatterpolargl": [
           {
            "marker": {
             "colorbar": {
              "outlinewidth": 0,
              "ticks": ""
             }
            },
            "type": "scatterpolargl"
           }
          ],
          "scatterternary": [
           {
            "marker": {
             "colorbar": {
              "outlinewidth": 0,
              "ticks": ""
             }
            },
            "type": "scatterternary"
           }
          ],
          "surface": [
           {
            "colorbar": {
             "outlinewidth": 0,
             "ticks": ""
            },
            "colorscale": [
             [
              0,
              "#0d0887"
             ],
             [
              0.1111111111111111,
              "#46039f"
             ],
             [
              0.2222222222222222,
              "#7201a8"
             ],
             [
              0.3333333333333333,
              "#9c179e"
             ],
             [
              0.4444444444444444,
              "#bd3786"
             ],
             [
              0.5555555555555556,
              "#d8576b"
             ],
             [
              0.6666666666666666,
              "#ed7953"
             ],
             [
              0.7777777777777778,
              "#fb9f3a"
             ],
             [
              0.8888888888888888,
              "#fdca26"
             ],
             [
              1,
              "#f0f921"
             ]
            ],
            "type": "surface"
           }
          ],
          "table": [
           {
            "cells": {
             "fill": {
              "color": "#EBF0F8"
             },
             "line": {
              "color": "white"
             }
            },
            "header": {
             "fill": {
              "color": "#C8D4E3"
             },
             "line": {
              "color": "white"
             }
            },
            "type": "table"
           }
          ]
         },
         "layout": {
          "annotationdefaults": {
           "arrowcolor": "#2a3f5f",
           "arrowhead": 0,
           "arrowwidth": 1
          },
          "autotypenumbers": "strict",
          "coloraxis": {
           "colorbar": {
            "outlinewidth": 0,
            "ticks": ""
           }
          },
          "colorscale": {
           "diverging": [
            [
             0,
             "#8e0152"
            ],
            [
             0.1,
             "#c51b7d"
            ],
            [
             0.2,
             "#de77ae"
            ],
            [
             0.3,
             "#f1b6da"
            ],
            [
             0.4,
             "#fde0ef"
            ],
            [
             0.5,
             "#f7f7f7"
            ],
            [
             0.6,
             "#e6f5d0"
            ],
            [
             0.7,
             "#b8e186"
            ],
            [
             0.8,
             "#7fbc41"
            ],
            [
             0.9,
             "#4d9221"
            ],
            [
             1,
             "#276419"
            ]
           ],
           "sequential": [
            [
             0,
             "#0d0887"
            ],
            [
             0.1111111111111111,
             "#46039f"
            ],
            [
             0.2222222222222222,
             "#7201a8"
            ],
            [
             0.3333333333333333,
             "#9c179e"
            ],
            [
             0.4444444444444444,
             "#bd3786"
            ],
            [
             0.5555555555555556,
             "#d8576b"
            ],
            [
             0.6666666666666666,
             "#ed7953"
            ],
            [
             0.7777777777777778,
             "#fb9f3a"
            ],
            [
             0.8888888888888888,
             "#fdca26"
            ],
            [
             1,
             "#f0f921"
            ]
           ],
           "sequentialminus": [
            [
             0,
             "#0d0887"
            ],
            [
             0.1111111111111111,
             "#46039f"
            ],
            [
             0.2222222222222222,
             "#7201a8"
            ],
            [
             0.3333333333333333,
             "#9c179e"
            ],
            [
             0.4444444444444444,
             "#bd3786"
            ],
            [
             0.5555555555555556,
             "#d8576b"
            ],
            [
             0.6666666666666666,
             "#ed7953"
            ],
            [
             0.7777777777777778,
             "#fb9f3a"
            ],
            [
             0.8888888888888888,
             "#fdca26"
            ],
            [
             1,
             "#f0f921"
            ]
           ]
          },
          "colorway": [
           "#636efa",
           "#EF553B",
           "#00cc96",
           "#ab63fa",
           "#FFA15A",
           "#19d3f3",
           "#FF6692",
           "#B6E880",
           "#FF97FF",
           "#FECB52"
          ],
          "font": {
           "color": "#2a3f5f"
          },
          "geo": {
           "bgcolor": "white",
           "lakecolor": "white",
           "landcolor": "#E5ECF6",
           "showlakes": true,
           "showland": true,
           "subunitcolor": "white"
          },
          "hoverlabel": {
           "align": "left"
          },
          "hovermode": "closest",
          "mapbox": {
           "style": "light"
          },
          "paper_bgcolor": "white",
          "plot_bgcolor": "#E5ECF6",
          "polar": {
           "angularaxis": {
            "gridcolor": "white",
            "linecolor": "white",
            "ticks": ""
           },
           "bgcolor": "#E5ECF6",
           "radialaxis": {
            "gridcolor": "white",
            "linecolor": "white",
            "ticks": ""
           }
          },
          "scene": {
           "xaxis": {
            "backgroundcolor": "#E5ECF6",
            "gridcolor": "white",
            "gridwidth": 2,
            "linecolor": "white",
            "showbackground": true,
            "ticks": "",
            "zerolinecolor": "white"
           },
           "yaxis": {
            "backgroundcolor": "#E5ECF6",
            "gridcolor": "white",
            "gridwidth": 2,
            "linecolor": "white",
            "showbackground": true,
            "ticks": "",
            "zerolinecolor": "white"
           },
           "zaxis": {
            "backgroundcolor": "#E5ECF6",
            "gridcolor": "white",
            "gridwidth": 2,
            "linecolor": "white",
            "showbackground": true,
            "ticks": "",
            "zerolinecolor": "white"
           }
          },
          "shapedefaults": {
           "line": {
            "color": "#2a3f5f"
           }
          },
          "ternary": {
           "aaxis": {
            "gridcolor": "white",
            "linecolor": "white",
            "ticks": ""
           },
           "baxis": {
            "gridcolor": "white",
            "linecolor": "white",
            "ticks": ""
           },
           "bgcolor": "#E5ECF6",
           "caxis": {
            "gridcolor": "white",
            "linecolor": "white",
            "ticks": ""
           }
          },
          "title": {
           "x": 0.05
          },
          "xaxis": {
           "automargin": true,
           "gridcolor": "white",
           "linecolor": "white",
           "ticks": "",
           "title": {
            "standoff": 15
           },
           "zerolinecolor": "white",
           "zerolinewidth": 2
          },
          "yaxis": {
           "automargin": true,
           "gridcolor": "white",
           "linecolor": "white",
           "ticks": "",
           "title": {
            "standoff": 15
           },
           "zerolinecolor": "white",
           "zerolinewidth": 2
          }
         }
        }
       }
      },
      "text/html": [
       "<div>                            <div id=\"19d256af-cdb4-4aaa-952a-7cb7c955d5dc\" class=\"plotly-graph-div\" style=\"height:525px; width:100%;\"></div>            <script type=\"text/javascript\">                require([\"plotly\"], function(Plotly) {                    window.PLOTLYENV=window.PLOTLYENV || {};                                    if (document.getElementById(\"19d256af-cdb4-4aaa-952a-7cb7c955d5dc\")) {                    Plotly.newPlot(                        \"19d256af-cdb4-4aaa-952a-7cb7c955d5dc\",                        [{\"hovertemplate\":\"<b>%{hovertext}</b><br><br>Latitudes=%{lat}<br>Longitudes=%{lon}<br>Price=%{marker.color}<extra></extra>\",\"hovertext\":[\"Ambarnath\",\"Ambivali\",\"Andheri East\",\"Andheri West\",\"Asangaon\",\"Badlapur\",\"Balkum\",\"Bandra East\",\"Bandra West\",\"Bangur Nagar\",\"Belapur\",\"Bhandup West\",\"Bhayandar west\",\"Bhayander\",\"Bhiwandi\",\"Boisar\",\"Borivali East\",\"Borivali West\",\"Byculla\",\"Chembur\",\"Dahisar\",\"Deonar\",\"Dharavi\",\"Dombivali\",\"Dombivali West\",\"Ghansoli\",\"Ghatkopar\",\"Ghatkopar East\",\"Ghodbunder Road\",\"Goregaon East\",\"Goregaon West\",\"Govandi\",\"I C Colony\",\"It Colony\",\"Jogeshwari\",\"Jogeshwari East\",\"Juhu\",\"Kalamboli\",\"Kalwa\",\"Kalyan\",\"Kalyan East\",\"Kamothe\",\"Kandivali\",\"Kandivali West\",\"Kanjurmarg\",\"Karjat\",\"Kavesar\",\"Khar\",\"Kharghar\",\"Kharodi\",\"Khopoli\",\"Koper Khairane\",\"Kurla\",\"Kurla East\",\"M G Road\",\"Malad East\",\"Malad West\",\"Marol\",\"Marwah\",\"Matunga\",\"Mira Road East\",\"Mulund\",\"Mulund East\",\"Mumbai\",\"Mumbai Central\",\"Naigaon East\",\"Nalasopara\",\"Nalasopara West\",\"Neral\",\"Nerul\",\"Palava\",\"Palghar\",\"Pant Nagar\",\"Parel\",\"Parsik Nagar\",\"Powai\",\"Prabhadevi\",\"Rasayani\",\"Rawal Pada\",\"Royal Palms Goregaon East\",\"Sakinaka\",\"Sanpada\",\"Santacruz West\",\"Sewri\",\"Shilphata\",\"Shimpoli\",\"Sion\",\"Taloja\",\"Thane\",\"Thane West\",\"Tilak Nagar\",\"Titwala\",\"Ulhasnagar 4\",\"Uran\",\"Vakola\",\"Vartak Nagar\",\"Vasai\",\"Vasai East\",\"Vashi\",\"Vikhroli\",\"Vikhroli East\",\"Vile Parle East\",\"Vile Parle West\",\"Virar East\",\"Virar West\",\"Wadala East\",\"Wadi Bunder\",\"Worli\",\"Yogi Hills\"],\"lat\":[19.1825,19.2846,19.1159,19.1172,19.4149,19.1552,19.2664,19.0623,19.0583,19.1676,19.0183,19.1454,19.3002,19.3118,19.2815,19.8236,19.2273,19.2403,18.979,19.2501,19.2502,19.0486,19.0402,19.2095,19.2158,19.1188,19.0866,19.0797,19.2226,19.1648,19.1646,19.0518,19.2209,19.2143,19.1342,19.1326,19.107,19.0104,19.1976,19.2355,19.24,19.0423,19.2044,19.2015,19.1396,18.9101,19.2897,19.0685,19.0217,19.1246,18.7799,19.0637,19.0686,19.0734,18.95,19.1998,19.1856,19.1334,19.0762,19.2739,19.2856,19.1739,19.1701,19.076,18.9678,19.2663,19.427,19.4261,19.0255,19.033,19.1935,19.4421,19.0558,19.0053,19.2001,19.1198,19.0177,19.0346,19.1133,19.1031,19.0998,19.0643,19.0848,19.0231,19.1939,19.2345,19.0435,19.0546,19.1863,19.1868,19.0796,19.208,19.2471,19.033,19.0837,19.2285,19.0546,19.3944,19.0749,19.1198,19.1157,19.1006,19.1006,19.4572,19.4557,19.0203,18.9614,19.0229,19.2355],\"legendgroup\":\"\",\"lon\":[73.1822,73.1728,72.8568,72.8327,73.3541,73.2642,73.0355,72.8562,72.8299,72.8347,73.0104,72.9456,72.8515,72.8504,73.0588,72.7512,72.8622,72.8448,72.8326,72.8938,72.854,72.9223,72.8508,73.0832,73.0972,73.0025,72.909,72.9113,72.9808,72.8777,72.8462,72.9148,72.8028,72.8112,72.8474,72.8549,72.827,73.0997,73.0859,73.1523,73.1543,73.1097,72.8401,72.8445,72.9344,73.3265,72.9988,72.83,73.0616,72.8637,73.3438,73.0375,72.88,72.8822,72.836,72.866,72.8473,72.85,72.8263,72.8512,72.8652,72.952,72.9481,72.8777,72.818,72.8457,72.841,72.8428,73.3163,73.018,73.1178,72.7524,72.8729,72.84,73.0343,72.8985,72.8261,73.1213,72.9515,72.8795,72.881,73.0185,72.8356,72.8616,73.083,72.848,72.864,73.0968,72.9781,72.9778,72.8371,73.2167,73.093,72.9393,72.8423,72.982,72.812,72.8133,73.0038,72.9414,72.9352,72.8384,72.8402,72.8622,72.8473,72.87,72.8441,72.8164,72.8568],\"marker\":{\"color\":[28.18,110.0,170.0,278.999995,20.175,26.125,79.0,487.5,600.0,null,150.0,212.5,105.0,55.77,57.43,26.0,180.0,135.0,45.0,165.0,117.0,145.0,140.0,45.0,46.5,146.5,165.0,137.5,120.0,260.0,200.0,115.0,null,null,145.0,null,575.0,97.5,65.0,47.0,69.5,70.0,165.0,137.99999,166.5,21.0,80.0,367.5,90.0,65.0,45.905,null,90.0,null,150.0,200.0,132.5,190.0,160.0,341.0,76.0,198.0,null,45.0,null,null,26.0,null,20.875,190.0,52.75,30.49,null,455.0,null,195.0,400.0,28.0,null,null,110.0,180.0,null,155.0,55.0,195.0,167.5,37.745,95.0,145.0,170.0,25.82,20.5,37.25,132.5,null,41.565,null,144.5,147.0,120.0,290.0,387.5,25.0,37.57,245.0,null,735.0,null],\"coloraxis\":\"coloraxis\"},\"mode\":\"markers\",\"name\":\"\",\"showlegend\":false,\"subplot\":\"mapbox\",\"type\":\"scattermapbox\"}],                        {\"template\":{\"data\":{\"histogram2dcontour\":[{\"type\":\"histogram2dcontour\",\"colorbar\":{\"outlinewidth\":0,\"ticks\":\"\"},\"colorscale\":[[0.0,\"#0d0887\"],[0.1111111111111111,\"#46039f\"],[0.2222222222222222,\"#7201a8\"],[0.3333333333333333,\"#9c179e\"],[0.4444444444444444,\"#bd3786\"],[0.5555555555555556,\"#d8576b\"],[0.6666666666666666,\"#ed7953\"],[0.7777777777777778,\"#fb9f3a\"],[0.8888888888888888,\"#fdca26\"],[1.0,\"#f0f921\"]]}],\"choropleth\":[{\"type\":\"choropleth\",\"colorbar\":{\"outlinewidth\":0,\"ticks\":\"\"}}],\"histogram2d\":[{\"type\":\"histogram2d\",\"colorbar\":{\"outlinewidth\":0,\"ticks\":\"\"},\"colorscale\":[[0.0,\"#0d0887\"],[0.1111111111111111,\"#46039f\"],[0.2222222222222222,\"#7201a8\"],[0.3333333333333333,\"#9c179e\"],[0.4444444444444444,\"#bd3786\"],[0.5555555555555556,\"#d8576b\"],[0.6666666666666666,\"#ed7953\"],[0.7777777777777778,\"#fb9f3a\"],[0.8888888888888888,\"#fdca26\"],[1.0,\"#f0f921\"]]}],\"heatmap\":[{\"type\":\"heatmap\",\"colorbar\":{\"outlinewidth\":0,\"ticks\":\"\"},\"colorscale\":[[0.0,\"#0d0887\"],[0.1111111111111111,\"#46039f\"],[0.2222222222222222,\"#7201a8\"],[0.3333333333333333,\"#9c179e\"],[0.4444444444444444,\"#bd3786\"],[0.5555555555555556,\"#d8576b\"],[0.6666666666666666,\"#ed7953\"],[0.7777777777777778,\"#fb9f3a\"],[0.8888888888888888,\"#fdca26\"],[1.0,\"#f0f921\"]]}],\"heatmapgl\":[{\"type\":\"heatmapgl\",\"colorbar\":{\"outlinewidth\":0,\"ticks\":\"\"},\"colorscale\":[[0.0,\"#0d0887\"],[0.1111111111111111,\"#46039f\"],[0.2222222222222222,\"#7201a8\"],[0.3333333333333333,\"#9c179e\"],[0.4444444444444444,\"#bd3786\"],[0.5555555555555556,\"#d8576b\"],[0.6666666666666666,\"#ed7953\"],[0.7777777777777778,\"#fb9f3a\"],[0.8888888888888888,\"#fdca26\"],[1.0,\"#f0f921\"]]}],\"contourcarpet\":[{\"type\":\"contourcarpet\",\"colorbar\":{\"outlinewidth\":0,\"ticks\":\"\"}}],\"contour\":[{\"type\":\"contour\",\"colorbar\":{\"outlinewidth\":0,\"ticks\":\"\"},\"colorscale\":[[0.0,\"#0d0887\"],[0.1111111111111111,\"#46039f\"],[0.2222222222222222,\"#7201a8\"],[0.3333333333333333,\"#9c179e\"],[0.4444444444444444,\"#bd3786\"],[0.5555555555555556,\"#d8576b\"],[0.6666666666666666,\"#ed7953\"],[0.7777777777777778,\"#fb9f3a\"],[0.8888888888888888,\"#fdca26\"],[1.0,\"#f0f921\"]]}],\"surface\":[{\"type\":\"surface\",\"colorbar\":{\"outlinewidth\":0,\"ticks\":\"\"},\"colorscale\":[[0.0,\"#0d0887\"],[0.1111111111111111,\"#46039f\"],[0.2222222222222222,\"#7201a8\"],[0.3333333333333333,\"#9c179e\"],[0.4444444444444444,\"#bd3786\"],[0.5555555555555556,\"#d8576b\"],[0.6666666666666666,\"#ed7953\"],[0.7777777777777778,\"#fb9f3a\"],[0.8888888888888888,\"#fdca26\"],[1.0,\"#f0f921\"]]}],\"mesh3d\":[{\"type\":\"mesh3d\",\"colorbar\":{\"outlinewidth\":0,\"ticks\":\"\"}}],\"scatter\":[{\"fillpattern\":{\"fillmode\":\"overlay\",\"size\":10,\"solidity\":0.2},\"type\":\"scatter\"}],\"parcoords\":[{\"type\":\"parcoords\",\"line\":{\"colorbar\":{\"outlinewidth\":0,\"ticks\":\"\"}}}],\"scatterpolargl\":[{\"type\":\"scatterpolargl\",\"marker\":{\"colorbar\":{\"outlinewidth\":0,\"ticks\":\"\"}}}],\"bar\":[{\"error_x\":{\"color\":\"#2a3f5f\"},\"error_y\":{\"color\":\"#2a3f5f\"},\"marker\":{\"line\":{\"color\":\"#E5ECF6\",\"width\":0.5},\"pattern\":{\"fillmode\":\"overlay\",\"size\":10,\"solidity\":0.2}},\"type\":\"bar\"}],\"scattergeo\":[{\"type\":\"scattergeo\",\"marker\":{\"colorbar\":{\"outlinewidth\":0,\"ticks\":\"\"}}}],\"scatterpolar\":[{\"type\":\"scatterpolar\",\"marker\":{\"colorbar\":{\"outlinewidth\":0,\"ticks\":\"\"}}}],\"histogram\":[{\"marker\":{\"pattern\":{\"fillmode\":\"overlay\",\"size\":10,\"solidity\":0.2}},\"type\":\"histogram\"}],\"scattergl\":[{\"type\":\"scattergl\",\"marker\":{\"colorbar\":{\"outlinewidth\":0,\"ticks\":\"\"}}}],\"scatter3d\":[{\"type\":\"scatter3d\",\"line\":{\"colorbar\":{\"outlinewidth\":0,\"ticks\":\"\"}},\"marker\":{\"colorbar\":{\"outlinewidth\":0,\"ticks\":\"\"}}}],\"scattermapbox\":[{\"type\":\"scattermapbox\",\"marker\":{\"colorbar\":{\"outlinewidth\":0,\"ticks\":\"\"}}}],\"scatterternary\":[{\"type\":\"scatterternary\",\"marker\":{\"colorbar\":{\"outlinewidth\":0,\"ticks\":\"\"}}}],\"scattercarpet\":[{\"type\":\"scattercarpet\",\"marker\":{\"colorbar\":{\"outlinewidth\":0,\"ticks\":\"\"}}}],\"carpet\":[{\"aaxis\":{\"endlinecolor\":\"#2a3f5f\",\"gridcolor\":\"white\",\"linecolor\":\"white\",\"minorgridcolor\":\"white\",\"startlinecolor\":\"#2a3f5f\"},\"baxis\":{\"endlinecolor\":\"#2a3f5f\",\"gridcolor\":\"white\",\"linecolor\":\"white\",\"minorgridcolor\":\"white\",\"startlinecolor\":\"#2a3f5f\"},\"type\":\"carpet\"}],\"table\":[{\"cells\":{\"fill\":{\"color\":\"#EBF0F8\"},\"line\":{\"color\":\"white\"}},\"header\":{\"fill\":{\"color\":\"#C8D4E3\"},\"line\":{\"color\":\"white\"}},\"type\":\"table\"}],\"barpolar\":[{\"marker\":{\"line\":{\"color\":\"#E5ECF6\",\"width\":0.5},\"pattern\":{\"fillmode\":\"overlay\",\"size\":10,\"solidity\":0.2}},\"type\":\"barpolar\"}],\"pie\":[{\"automargin\":true,\"type\":\"pie\"}]},\"layout\":{\"autotypenumbers\":\"strict\",\"colorway\":[\"#636efa\",\"#EF553B\",\"#00cc96\",\"#ab63fa\",\"#FFA15A\",\"#19d3f3\",\"#FF6692\",\"#B6E880\",\"#FF97FF\",\"#FECB52\"],\"font\":{\"color\":\"#2a3f5f\"},\"hovermode\":\"closest\",\"hoverlabel\":{\"align\":\"left\"},\"paper_bgcolor\":\"white\",\"plot_bgcolor\":\"#E5ECF6\",\"polar\":{\"bgcolor\":\"#E5ECF6\",\"angularaxis\":{\"gridcolor\":\"white\",\"linecolor\":\"white\",\"ticks\":\"\"},\"radialaxis\":{\"gridcolor\":\"white\",\"linecolor\":\"white\",\"ticks\":\"\"}},\"ternary\":{\"bgcolor\":\"#E5ECF6\",\"aaxis\":{\"gridcolor\":\"white\",\"linecolor\":\"white\",\"ticks\":\"\"},\"baxis\":{\"gridcolor\":\"white\",\"linecolor\":\"white\",\"ticks\":\"\"},\"caxis\":{\"gridcolor\":\"white\",\"linecolor\":\"white\",\"ticks\":\"\"}},\"coloraxis\":{\"colorbar\":{\"outlinewidth\":0,\"ticks\":\"\"}},\"colorscale\":{\"sequential\":[[0.0,\"#0d0887\"],[0.1111111111111111,\"#46039f\"],[0.2222222222222222,\"#7201a8\"],[0.3333333333333333,\"#9c179e\"],[0.4444444444444444,\"#bd3786\"],[0.5555555555555556,\"#d8576b\"],[0.6666666666666666,\"#ed7953\"],[0.7777777777777778,\"#fb9f3a\"],[0.8888888888888888,\"#fdca26\"],[1.0,\"#f0f921\"]],\"sequentialminus\":[[0.0,\"#0d0887\"],[0.1111111111111111,\"#46039f\"],[0.2222222222222222,\"#7201a8\"],[0.3333333333333333,\"#9c179e\"],[0.4444444444444444,\"#bd3786\"],[0.5555555555555556,\"#d8576b\"],[0.6666666666666666,\"#ed7953\"],[0.7777777777777778,\"#fb9f3a\"],[0.8888888888888888,\"#fdca26\"],[1.0,\"#f0f921\"]],\"diverging\":[[0,\"#8e0152\"],[0.1,\"#c51b7d\"],[0.2,\"#de77ae\"],[0.3,\"#f1b6da\"],[0.4,\"#fde0ef\"],[0.5,\"#f7f7f7\"],[0.6,\"#e6f5d0\"],[0.7,\"#b8e186\"],[0.8,\"#7fbc41\"],[0.9,\"#4d9221\"],[1,\"#276419\"]]},\"xaxis\":{\"gridcolor\":\"white\",\"linecolor\":\"white\",\"ticks\":\"\",\"title\":{\"standoff\":15},\"zerolinecolor\":\"white\",\"automargin\":true,\"zerolinewidth\":2},\"yaxis\":{\"gridcolor\":\"white\",\"linecolor\":\"white\",\"ticks\":\"\",\"title\":{\"standoff\":15},\"zerolinecolor\":\"white\",\"automargin\":true,\"zerolinewidth\":2},\"scene\":{\"xaxis\":{\"backgroundcolor\":\"#E5ECF6\",\"gridcolor\":\"white\",\"linecolor\":\"white\",\"showbackground\":true,\"ticks\":\"\",\"zerolinecolor\":\"white\",\"gridwidth\":2},\"yaxis\":{\"backgroundcolor\":\"#E5ECF6\",\"gridcolor\":\"white\",\"linecolor\":\"white\",\"showbackground\":true,\"ticks\":\"\",\"zerolinecolor\":\"white\",\"gridwidth\":2},\"zaxis\":{\"backgroundcolor\":\"#E5ECF6\",\"gridcolor\":\"white\",\"linecolor\":\"white\",\"showbackground\":true,\"ticks\":\"\",\"zerolinecolor\":\"white\",\"gridwidth\":2}},\"shapedefaults\":{\"line\":{\"color\":\"#2a3f5f\"}},\"annotationdefaults\":{\"arrowcolor\":\"#2a3f5f\",\"arrowhead\":0,\"arrowwidth\":1},\"geo\":{\"bgcolor\":\"white\",\"landcolor\":\"#E5ECF6\",\"subunitcolor\":\"white\",\"showland\":true,\"showlakes\":true,\"lakecolor\":\"white\"},\"title\":{\"x\":0.05},\"mapbox\":{\"style\":\"light\"}}},\"mapbox\":{\"domain\":{\"x\":[0.0,1.0],\"y\":[0.0,1.0]},\"center\":{\"lat\":19.152813761467886,\"lon\":72.93844311926605},\"zoom\":9,\"style\":\"open-street-map\"},\"coloraxis\":{\"colorbar\":{\"title\":{\"text\":\"Price\"}},\"colorscale\":[[0.0,\"#0d0887\"],[0.1111111111111111,\"#46039f\"],[0.2222222222222222,\"#7201a8\"],[0.3333333333333333,\"#9c179e\"],[0.4444444444444444,\"#bd3786\"],[0.5555555555555556,\"#d8576b\"],[0.6666666666666666,\"#ed7953\"],[0.7777777777777778,\"#fb9f3a\"],[0.8888888888888888,\"#fdca26\"],[1.0,\"#f0f921\"]]},\"legend\":{\"tracegroupgap\":0},\"margin\":{\"t\":60}},                        {\"responsive\": true}                    ).then(function(){\n",
       "                            \n",
       "var gd = document.getElementById('19d256af-cdb4-4aaa-952a-7cb7c955d5dc');\n",
       "var x = new MutationObserver(function (mutations, observer) {{\n",
       "        var display = window.getComputedStyle(gd).display;\n",
       "        if (!display || display === 'none') {{\n",
       "            console.log([gd, 'removed!']);\n",
       "            Plotly.purge(gd);\n",
       "            observer.disconnect();\n",
       "        }}\n",
       "}});\n",
       "\n",
       "// Listen for the removal of the full notebook cells\n",
       "var notebookContainer = gd.closest('#notebook-container');\n",
       "if (notebookContainer) {{\n",
       "    x.observe(notebookContainer, {childList: true});\n",
       "}}\n",
       "\n",
       "// Listen for the clearing of the current output cell\n",
       "var outputEl = gd.closest('.output');\n",
       "if (outputEl) {{\n",
       "    x.observe(outputEl, {childList: true});\n",
       "}}\n",
       "\n",
       "                        })                };                });            </script>        </div>"
      ]
     },
     "metadata": {},
     "output_type": "display_data"
    }
   ],
   "source": [
    "fig = px.scatter_mapbox(df_plot_tmp, lat=\"Latitudes\", lon=\"Longitudes\", color=\"Price\",hover_name='Location', zoom=9, mapbox_style='open-street-map')\n",
    "fig.show()"
   ]
  }
 ],
 "metadata": {
  "kernelspec": {
   "display_name": "Python 3 (ipykernel)",
   "language": "python",
   "name": "python3"
  },
  "language_info": {
   "codemirror_mode": {
    "name": "ipython",
    "version": 3
   },
   "file_extension": ".py",
   "mimetype": "text/x-python",
   "name": "python",
   "nbconvert_exporter": "python",
   "pygments_lexer": "ipython3",
   "version": "3.10.9"
  }
 },
 "nbformat": 4,
 "nbformat_minor": 5
}
